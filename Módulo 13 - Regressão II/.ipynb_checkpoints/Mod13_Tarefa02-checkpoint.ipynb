{
 "cells": [
  {
   "cell_type": "markdown",
   "metadata": {},
   "source": [
    "# EBAC - Regressão II - regressão múltipla\n",
    "\n",
    "## Tarefa I"
   ]
  },
  {
   "cell_type": "markdown",
   "metadata": {},
   "source": [
    "#### Previsão de renda II\n",
    "\n",
    "Vamos continuar trabalhando com a base 'previsao_de_renda.csv', que é a base do seu próximo projeto. Vamos usar os recursos que vimos até aqui nesta base.\n",
    "\n",
    "|variavel|descrição|\n",
    "|-|-|\n",
    "|data_ref                | Data de referência de coleta das variáveis |\n",
    "|index                   | Código de identificação do cliente|\n",
    "|sexo                    | Sexo do cliente|\n",
    "|posse_de_veiculo        | Indica se o cliente possui veículo|\n",
    "|posse_de_imovel         | Indica se o cliente possui imóvel|\n",
    "|qtd_filhos              | Quantidade de filhos do cliente|\n",
    "|tipo_renda              | Tipo de renda do cliente|\n",
    "|educacao                | Grau de instrução do cliente|\n",
    "|estado_civil            | Estado civil do cliente|\n",
    "|tipo_residencia         | Tipo de residência do cliente (própria, alugada etc)|\n",
    "|idade                   | Idade do cliente|\n",
    "|tempo_emprego           | Tempo no emprego atual|\n",
    "|qt_pessoas_residencia   | Quantidade de pessoas que moram na residência|\n",
    "|renda                   | Renda em reais|"
   ]
  },
  {
   "cell_type": "code",
   "execution_count": 1,
   "metadata": {},
   "outputs": [],
   "source": [
    "import pandas as pd\n",
    "import numpy as np\n",
    "\n",
    "import pandas as pd\n",
    "import numpy as np\n",
    "import matplotlib.pyplot as plt\n",
    "import seaborn as sns\n",
    "\n",
    "from sklearn import datasets\n",
    "from sklearn.tree import DecisionTreeRegressor\n",
    "from sklearn import tree\n",
    "from sklearn.model_selection import train_test_split\n",
    "from sklearn.metrics import mean_squared_error\n",
    "from sklearn.linear_model import Ridge\n",
    "from sklearn.linear_model import Lasso\n",
    "from sklearn.metrics import r2_score\n",
    "\n",
    "import statsmodels.formula.api as smf\n",
    "import statsmodels.api as sm\n",
    "import patsy"
   ]
  },
  {
   "cell_type": "code",
   "execution_count": 2,
   "metadata": {},
   "outputs": [],
   "source": [
    "df = pd.read_csv('previsao_de_renda.csv')"
   ]
  },
  {
   "cell_type": "code",
   "execution_count": 3,
   "metadata": {
    "scrolled": false
   },
   "outputs": [
    {
     "name": "stdout",
     "output_type": "stream",
     "text": [
      "<class 'pandas.core.frame.DataFrame'>\n",
      "RangeIndex: 15000 entries, 0 to 14999\n",
      "Data columns (total 15 columns):\n",
      " #   Column                 Non-Null Count  Dtype  \n",
      "---  ------                 --------------  -----  \n",
      " 0   Unnamed: 0             15000 non-null  int64  \n",
      " 1   data_ref               15000 non-null  object \n",
      " 2   id_cliente             15000 non-null  int64  \n",
      " 3   sexo                   15000 non-null  object \n",
      " 4   posse_de_veiculo       15000 non-null  bool   \n",
      " 5   posse_de_imovel        15000 non-null  bool   \n",
      " 6   qtd_filhos             15000 non-null  int64  \n",
      " 7   tipo_renda             15000 non-null  object \n",
      " 8   educacao               15000 non-null  object \n",
      " 9   estado_civil           15000 non-null  object \n",
      " 10  tipo_residencia        15000 non-null  object \n",
      " 11  idade                  15000 non-null  int64  \n",
      " 12  tempo_emprego          12427 non-null  float64\n",
      " 13  qt_pessoas_residencia  15000 non-null  float64\n",
      " 14  renda                  15000 non-null  float64\n",
      "dtypes: bool(2), float64(3), int64(4), object(6)\n",
      "memory usage: 1.5+ MB\n"
     ]
    }
   ],
   "source": [
    "df.info()"
   ]
  },
  {
   "cell_type": "code",
   "execution_count": 4,
   "metadata": {},
   "outputs": [
    {
     "data": {
      "text/plain": [
       "(15000, 15)"
      ]
     },
     "execution_count": 4,
     "metadata": {},
     "output_type": "execute_result"
    }
   ],
   "source": [
    "df.shape"
   ]
  },
  {
   "cell_type": "code",
   "execution_count": 5,
   "metadata": {},
   "outputs": [
    {
     "data": {
      "text/plain": [
       "(15000, 15)"
      ]
     },
     "execution_count": 5,
     "metadata": {},
     "output_type": "execute_result"
    }
   ],
   "source": [
    "df = df.drop_duplicates()\n",
    "df.shape"
   ]
  },
  {
   "cell_type": "code",
   "execution_count": 6,
   "metadata": {},
   "outputs": [
    {
     "data": {
      "text/plain": [
       "Unnamed: 0                  0\n",
       "data_ref                    0\n",
       "id_cliente                  0\n",
       "sexo                        0\n",
       "posse_de_veiculo            0\n",
       "posse_de_imovel             0\n",
       "qtd_filhos                  0\n",
       "tipo_renda                  0\n",
       "educacao                    0\n",
       "estado_civil                0\n",
       "tipo_residencia             0\n",
       "idade                       0\n",
       "tempo_emprego            2573\n",
       "qt_pessoas_residencia       0\n",
       "renda                       0\n",
       "dtype: int64"
      ]
     },
     "execution_count": 6,
     "metadata": {},
     "output_type": "execute_result"
    }
   ],
   "source": [
    "df.isna().sum()"
   ]
  },
  {
   "cell_type": "code",
   "execution_count": 7,
   "metadata": {},
   "outputs": [
    {
     "data": {
      "text/plain": [
       "(12427, 15)"
      ]
     },
     "execution_count": 7,
     "metadata": {},
     "output_type": "execute_result"
    }
   ],
   "source": [
    "df = df.dropna()\n",
    "df.shape"
   ]
  },
  {
   "cell_type": "markdown",
   "metadata": {},
   "source": [
    "1. Separe a base em treinamento e teste (25% para teste, 75% para treinamento).\n",
    "2. Rode uma regularização *ridge* com alpha = [0, 0.001, 0.005, 0.01, 0.05, 0.1] e avalie o $R^2$ na base de testes. Qual o melhor modelo?\n",
    "3. Faça o mesmo que no passo 2, com uma regressão *LASSO*. Qual método chega a um melhor resultado?\n",
    "4. Rode um modelo *stepwise*. Avalie o $R^2$ na vase de testes. Qual o melhor resultado?\n",
    "5. Compare os parâmetros e avalie eventuais diferenças. Qual modelo você acha o melhor de todos?\n",
    "6. Partindo dos modelos que você ajustou, tente melhorar o $R^2$ na base de testes. Use a criatividade, veja se consegue inserir alguma transformação ou combinação de variáveis.\n",
    "7. Ajuste uma árvore de regressão e veja se consegue um $R^2$ melhor com ela."
   ]
  },
  {
   "cell_type": "code",
   "execution_count": 8,
   "metadata": {
    "scrolled": true
   },
   "outputs": [
    {
     "name": "stdout",
     "output_type": "stream",
     "text": [
      "<class 'pandas.core.frame.DataFrame'>\n",
      "Int64Index: 12427 entries, 0 to 14999\n",
      "Data columns (total 24 columns):\n",
      " #   Column                         Non-Null Count  Dtype  \n",
      "---  ------                         --------------  -----  \n",
      " 0   posse_de_veiculo               12427 non-null  int32  \n",
      " 1   posse_de_imovel                12427 non-null  int32  \n",
      " 2   qtd_filhos                     12427 non-null  int64  \n",
      " 3   idade                          12427 non-null  int64  \n",
      " 4   tempo_emprego                  12427 non-null  float64\n",
      " 5   qt_pessoas_residencia          12427 non-null  float64\n",
      " 6   sexo_M                         12427 non-null  uint8  \n",
      " 7   tipo_renda_Bolsista            12427 non-null  uint8  \n",
      " 8   tipo_renda_Empresário          12427 non-null  uint8  \n",
      " 9   tipo_renda_Pensionista         12427 non-null  uint8  \n",
      " 10  tipo_renda_Servidor público    12427 non-null  uint8  \n",
      " 11  educacao_Pós graduação         12427 non-null  uint8  \n",
      " 12  educacao_Secundário            12427 non-null  uint8  \n",
      " 13  educacao_Superior completo     12427 non-null  uint8  \n",
      " 14  educacao_Superior incompleto   12427 non-null  uint8  \n",
      " 15  estado_civil_Separado          12427 non-null  uint8  \n",
      " 16  estado_civil_Solteiro          12427 non-null  uint8  \n",
      " 17  estado_civil_União             12427 non-null  uint8  \n",
      " 18  estado_civil_Viúvo             12427 non-null  uint8  \n",
      " 19  tipo_residencia_Casa           12427 non-null  uint8  \n",
      " 20  tipo_residencia_Com os pais    12427 non-null  uint8  \n",
      " 21  tipo_residencia_Comunitário    12427 non-null  uint8  \n",
      " 22  tipo_residencia_Estúdio        12427 non-null  uint8  \n",
      " 23  tipo_residencia_Governamental  12427 non-null  uint8  \n",
      "dtypes: float64(2), int32(2), int64(2), uint8(18)\n",
      "memory usage: 801.0 KB\n",
      "None\n"
     ]
    },
    {
     "data": {
      "text/html": [
       "<div>\n",
       "<style scoped>\n",
       "    .dataframe tbody tr th:only-of-type {\n",
       "        vertical-align: middle;\n",
       "    }\n",
       "\n",
       "    .dataframe tbody tr th {\n",
       "        vertical-align: top;\n",
       "    }\n",
       "\n",
       "    .dataframe thead th {\n",
       "        text-align: right;\n",
       "    }\n",
       "</style>\n",
       "<table border=\"1\" class=\"dataframe\">\n",
       "  <thead>\n",
       "    <tr style=\"text-align: right;\">\n",
       "      <th></th>\n",
       "      <th>posse_de_veiculo</th>\n",
       "      <th>posse_de_imovel</th>\n",
       "      <th>qtd_filhos</th>\n",
       "      <th>idade</th>\n",
       "      <th>tempo_emprego</th>\n",
       "      <th>qt_pessoas_residencia</th>\n",
       "      <th>sexo_M</th>\n",
       "      <th>tipo_renda_Bolsista</th>\n",
       "      <th>tipo_renda_Empresário</th>\n",
       "      <th>tipo_renda_Pensionista</th>\n",
       "      <th>...</th>\n",
       "      <th>educacao_Superior incompleto</th>\n",
       "      <th>estado_civil_Separado</th>\n",
       "      <th>estado_civil_Solteiro</th>\n",
       "      <th>estado_civil_União</th>\n",
       "      <th>estado_civil_Viúvo</th>\n",
       "      <th>tipo_residencia_Casa</th>\n",
       "      <th>tipo_residencia_Com os pais</th>\n",
       "      <th>tipo_residencia_Comunitário</th>\n",
       "      <th>tipo_residencia_Estúdio</th>\n",
       "      <th>tipo_residencia_Governamental</th>\n",
       "    </tr>\n",
       "  </thead>\n",
       "  <tbody>\n",
       "    <tr>\n",
       "      <th>0</th>\n",
       "      <td>0</td>\n",
       "      <td>1</td>\n",
       "      <td>0</td>\n",
       "      <td>26</td>\n",
       "      <td>6.602740</td>\n",
       "      <td>1.0</td>\n",
       "      <td>0</td>\n",
       "      <td>0</td>\n",
       "      <td>1</td>\n",
       "      <td>0</td>\n",
       "      <td>...</td>\n",
       "      <td>0</td>\n",
       "      <td>0</td>\n",
       "      <td>1</td>\n",
       "      <td>0</td>\n",
       "      <td>0</td>\n",
       "      <td>1</td>\n",
       "      <td>0</td>\n",
       "      <td>0</td>\n",
       "      <td>0</td>\n",
       "      <td>0</td>\n",
       "    </tr>\n",
       "    <tr>\n",
       "      <th>1</th>\n",
       "      <td>1</td>\n",
       "      <td>1</td>\n",
       "      <td>0</td>\n",
       "      <td>28</td>\n",
       "      <td>7.183562</td>\n",
       "      <td>2.0</td>\n",
       "      <td>1</td>\n",
       "      <td>0</td>\n",
       "      <td>0</td>\n",
       "      <td>0</td>\n",
       "      <td>...</td>\n",
       "      <td>0</td>\n",
       "      <td>0</td>\n",
       "      <td>0</td>\n",
       "      <td>0</td>\n",
       "      <td>0</td>\n",
       "      <td>1</td>\n",
       "      <td>0</td>\n",
       "      <td>0</td>\n",
       "      <td>0</td>\n",
       "      <td>0</td>\n",
       "    </tr>\n",
       "    <tr>\n",
       "      <th>2</th>\n",
       "      <td>1</td>\n",
       "      <td>1</td>\n",
       "      <td>0</td>\n",
       "      <td>35</td>\n",
       "      <td>0.838356</td>\n",
       "      <td>2.0</td>\n",
       "      <td>0</td>\n",
       "      <td>0</td>\n",
       "      <td>1</td>\n",
       "      <td>0</td>\n",
       "      <td>...</td>\n",
       "      <td>0</td>\n",
       "      <td>0</td>\n",
       "      <td>0</td>\n",
       "      <td>0</td>\n",
       "      <td>0</td>\n",
       "      <td>1</td>\n",
       "      <td>0</td>\n",
       "      <td>0</td>\n",
       "      <td>0</td>\n",
       "      <td>0</td>\n",
       "    </tr>\n",
       "    <tr>\n",
       "      <th>3</th>\n",
       "      <td>0</td>\n",
       "      <td>1</td>\n",
       "      <td>1</td>\n",
       "      <td>30</td>\n",
       "      <td>4.846575</td>\n",
       "      <td>3.0</td>\n",
       "      <td>0</td>\n",
       "      <td>0</td>\n",
       "      <td>0</td>\n",
       "      <td>0</td>\n",
       "      <td>...</td>\n",
       "      <td>0</td>\n",
       "      <td>0</td>\n",
       "      <td>0</td>\n",
       "      <td>0</td>\n",
       "      <td>0</td>\n",
       "      <td>1</td>\n",
       "      <td>0</td>\n",
       "      <td>0</td>\n",
       "      <td>0</td>\n",
       "      <td>0</td>\n",
       "    </tr>\n",
       "    <tr>\n",
       "      <th>4</th>\n",
       "      <td>1</td>\n",
       "      <td>0</td>\n",
       "      <td>0</td>\n",
       "      <td>33</td>\n",
       "      <td>4.293151</td>\n",
       "      <td>1.0</td>\n",
       "      <td>1</td>\n",
       "      <td>0</td>\n",
       "      <td>0</td>\n",
       "      <td>0</td>\n",
       "      <td>...</td>\n",
       "      <td>0</td>\n",
       "      <td>0</td>\n",
       "      <td>1</td>\n",
       "      <td>0</td>\n",
       "      <td>0</td>\n",
       "      <td>0</td>\n",
       "      <td>0</td>\n",
       "      <td>0</td>\n",
       "      <td>0</td>\n",
       "      <td>1</td>\n",
       "    </tr>\n",
       "  </tbody>\n",
       "</table>\n",
       "<p>5 rows × 24 columns</p>\n",
       "</div>"
      ],
      "text/plain": [
       "   posse_de_veiculo  posse_de_imovel  qtd_filhos  idade  tempo_emprego  \\\n",
       "0                 0                1           0     26       6.602740   \n",
       "1                 1                1           0     28       7.183562   \n",
       "2                 1                1           0     35       0.838356   \n",
       "3                 0                1           1     30       4.846575   \n",
       "4                 1                0           0     33       4.293151   \n",
       "\n",
       "   qt_pessoas_residencia  sexo_M  tipo_renda_Bolsista  tipo_renda_Empresário  \\\n",
       "0                    1.0       0                    0                      1   \n",
       "1                    2.0       1                    0                      0   \n",
       "2                    2.0       0                    0                      1   \n",
       "3                    3.0       0                    0                      0   \n",
       "4                    1.0       1                    0                      0   \n",
       "\n",
       "   tipo_renda_Pensionista  ...  educacao_Superior incompleto  \\\n",
       "0                       0  ...                             0   \n",
       "1                       0  ...                             0   \n",
       "2                       0  ...                             0   \n",
       "3                       0  ...                             0   \n",
       "4                       0  ...                             0   \n",
       "\n",
       "   estado_civil_Separado  estado_civil_Solteiro  estado_civil_União  \\\n",
       "0                      0                      1                   0   \n",
       "1                      0                      0                   0   \n",
       "2                      0                      0                   0   \n",
       "3                      0                      0                   0   \n",
       "4                      0                      1                   0   \n",
       "\n",
       "   estado_civil_Viúvo  tipo_residencia_Casa  tipo_residencia_Com os pais  \\\n",
       "0                   0                     1                            0   \n",
       "1                   0                     1                            0   \n",
       "2                   0                     1                            0   \n",
       "3                   0                     1                            0   \n",
       "4                   0                     0                            0   \n",
       "\n",
       "   tipo_residencia_Comunitário  tipo_residencia_Estúdio  \\\n",
       "0                            0                        0   \n",
       "1                            0                        0   \n",
       "2                            0                        0   \n",
       "3                            0                        0   \n",
       "4                            0                        0   \n",
       "\n",
       "   tipo_residencia_Governamental  \n",
       "0                              0  \n",
       "1                              0  \n",
       "2                              0  \n",
       "3                              0  \n",
       "4                              1  \n",
       "\n",
       "[5 rows x 24 columns]"
      ]
     },
     "execution_count": 8,
     "metadata": {},
     "output_type": "execute_result"
    }
   ],
   "source": [
    "# 1)\n",
    "\n",
    "X = df.drop(columns = ['Unnamed: 0', 'data_ref', 'id_cliente', 'renda']).copy()\n",
    "\n",
    "X.posse_de_veiculo = X.posse_de_veiculo.astype(int)\n",
    "X.posse_de_imovel = X.posse_de_imovel.astype(int)\n",
    "\n",
    "X = pd.get_dummies(X, drop_first = True)\n",
    "print(X.info())\n",
    "X.head()"
   ]
  },
  {
   "cell_type": "code",
   "execution_count": 9,
   "metadata": {},
   "outputs": [],
   "source": [
    "X.rename(columns={'tipo_renda_Servidor público':'tipo_renda_Servidor_público',\n",
    "                       'educacao_Pós graduação':'educacao_Pós_graduação',\n",
    "                       'educacao_Superior completo':'educacao_Superior_completo',\n",
    "                       'educacao_Superior incompleto': 'educacao_Superior_incompleto',\n",
    "                       'tipo_residencia_Com os pais': 'tipo_residencia_Com_os_pais'}, inplace=True)"
   ]
  },
  {
   "cell_type": "code",
   "execution_count": 10,
   "metadata": {},
   "outputs": [
    {
     "data": {
      "text/plain": [
       "0    8060.34\n",
       "1    1852.15\n",
       "2    2253.89\n",
       "3    6600.77\n",
       "4    6475.97\n",
       "Name: renda, dtype: float64"
      ]
     },
     "execution_count": 10,
     "metadata": {},
     "output_type": "execute_result"
    }
   ],
   "source": [
    "y =  df.loc[:,'renda']\n",
    "\n",
    "y.head()"
   ]
  },
  {
   "cell_type": "code",
   "execution_count": 11,
   "metadata": {},
   "outputs": [],
   "source": [
    "X_train, X_test, y_train, y_test = train_test_split(X, y, test_size=0.25, train_size=0.75)"
   ]
  },
  {
   "cell_type": "code",
   "execution_count": 12,
   "metadata": {},
   "outputs": [
    {
     "name": "stdout",
     "output_type": "stream",
     "text": [
      "Melhor modelo: alpha = 0, R2 = 0.25\n"
     ]
    }
   ],
   "source": [
    "# 2)  Regularização Ridge\n",
    "\n",
    "alphas = [0, 0.001, 0.005, 0.01, 0.05, 0.1]\n",
    "r2_scores = []\n",
    "for alpha in alphas:\n",
    "    model = Ridge(alpha=alpha)\n",
    "    model.fit(X_train, y_train)\n",
    "    y_pred = model.predict(X_test)\n",
    "    r2 = r2_score(y_test, y_pred)\n",
    "    r2_scores.append(r2)\n",
    "\n",
    "# Encontra o melhor modelo de acordo com o R2\n",
    "best_alpha = alphas[np.argmax(r2_scores)]\n",
    "best_r2 = r2_scores[np.argmax(r2_scores)]\n",
    "print(f\"Melhor modelo: alpha = {best_alpha}, R2 = {best_r2:.2f}\")"
   ]
  },
  {
   "cell_type": "code",
   "execution_count": 13,
   "metadata": {
    "scrolled": true
   },
   "outputs": [
    {
     "name": "stderr",
     "output_type": "stream",
     "text": [
      "C:\\Users\\windows 10 Pro 2022\\AppData\\Local\\Temp\\ipykernel_11448\\742651287.py:7: UserWarning: With alpha=0, this algorithm does not converge well. You are advised to use the LinearRegression estimator\n",
      "  model.fit(X_train, y_train)\n",
      "C:\\ProgramData\\Anaconda3\\lib\\site-packages\\sklearn\\linear_model\\_coordinate_descent.py:647: UserWarning: Coordinate descent with no regularization may lead to unexpected results and is discouraged.\n",
      "  model = cd_fast.enet_coordinate_descent(\n",
      "C:\\ProgramData\\Anaconda3\\lib\\site-packages\\sklearn\\linear_model\\_coordinate_descent.py:647: ConvergenceWarning: Objective did not converge. You might want to increase the number of iterations, check the scale of the features or consider increasing regularisation. Duality gap: 2.366e+11, tolerance: 6.347e+07 Linear regression models with null weight for the l1 regularization term are more efficiently fitted using one of the solvers implemented in sklearn.linear_model.Ridge/RidgeCV instead.\n",
      "  model = cd_fast.enet_coordinate_descent(\n",
      "C:\\ProgramData\\Anaconda3\\lib\\site-packages\\sklearn\\linear_model\\_coordinate_descent.py:647: ConvergenceWarning: Objective did not converge. You might want to increase the number of iterations, check the scale of the features or consider increasing regularisation. Duality gap: 2.288e+11, tolerance: 6.347e+07\n",
      "  model = cd_fast.enet_coordinate_descent(\n",
      "C:\\ProgramData\\Anaconda3\\lib\\site-packages\\sklearn\\linear_model\\_coordinate_descent.py:647: ConvergenceWarning: Objective did not converge. You might want to increase the number of iterations, check the scale of the features or consider increasing regularisation. Duality gap: 2.008e+11, tolerance: 6.347e+07\n",
      "  model = cd_fast.enet_coordinate_descent(\n",
      "C:\\ProgramData\\Anaconda3\\lib\\site-packages\\sklearn\\linear_model\\_coordinate_descent.py:647: ConvergenceWarning: Objective did not converge. You might want to increase the number of iterations, check the scale of the features or consider increasing regularisation. Duality gap: 1.720e+11, tolerance: 6.347e+07\n",
      "  model = cd_fast.enet_coordinate_descent(\n",
      "C:\\ProgramData\\Anaconda3\\lib\\site-packages\\sklearn\\linear_model\\_coordinate_descent.py:647: ConvergenceWarning: Objective did not converge. You might want to increase the number of iterations, check the scale of the features or consider increasing regularisation. Duality gap: 6.182e+10, tolerance: 6.347e+07\n",
      "  model = cd_fast.enet_coordinate_descent(\n"
     ]
    },
    {
     "name": "stdout",
     "output_type": "stream",
     "text": [
      "Melhor modelo: alpha = 0, R2 = 0.25\n"
     ]
    },
    {
     "name": "stderr",
     "output_type": "stream",
     "text": [
      "C:\\ProgramData\\Anaconda3\\lib\\site-packages\\sklearn\\linear_model\\_coordinate_descent.py:647: ConvergenceWarning: Objective did not converge. You might want to increase the number of iterations, check the scale of the features or consider increasing regularisation. Duality gap: 2.297e+10, tolerance: 6.347e+07\n",
      "  model = cd_fast.enet_coordinate_descent(\n"
     ]
    }
   ],
   "source": [
    "# 3)  Regularização Lasso\n",
    "\n",
    "alphas = [0, 0.001, 0.005, 0.01, 0.05, 0.1]\n",
    "r2_scores = []\n",
    "for alpha in alphas:\n",
    "    model = Lasso(alpha=alpha)\n",
    "    model.fit(X_train, y_train)\n",
    "    y_pred = model.predict(X_test)\n",
    "    r2 = r2_score(y_test, y_pred)\n",
    "    r2_scores.append(r2)\n",
    "\n",
    "best_alpha = alphas[np.argmax(r2_scores)]\n",
    "best_r2 = r2_scores[np.argmax(r2_scores)]\n",
    "print(f\"Melhor modelo: alpha = {best_alpha}, R2 = {best_r2:.2f}\")"
   ]
  },
  {
   "cell_type": "markdown",
   "metadata": {},
   "source": [
    "- Ambas as regularizações apresentaram resultados quase iguais."
   ]
  },
  {
   "cell_type": "code",
   "execution_count": 14,
   "metadata": {
    "scrolled": false
   },
   "outputs": [
    {
     "name": "stdout",
     "output_type": "stream",
     "text": [
      "Add tempo_emprego                  with p-value 0.0\n",
      "#############\n",
      "['tempo_emprego']\n",
      "Add sexo_M                         with p-value 5.4761e-271\n",
      "#############\n",
      "['tempo_emprego', 'sexo_M']\n",
      "Add tipo_renda_Empresário          with p-value 5.04056e-06\n",
      "#############\n",
      "['tempo_emprego', 'sexo_M', 'tipo_renda_Empresário']\n",
      "Add educacao_Superior_completo     with p-value 3.35688e-05\n",
      "#############\n",
      "['tempo_emprego', 'sexo_M', 'tipo_renda_Empresário', 'educacao_Superior_completo']\n",
      "Add idade                          with p-value 2.96569e-05\n",
      "#############\n",
      "['tempo_emprego', 'sexo_M', 'tipo_renda_Empresário', 'educacao_Superior_completo', 'idade']\n",
      "Add qt_pessoas_residencia          with p-value 0.0140927\n",
      "#############\n",
      "['tempo_emprego', 'sexo_M', 'tipo_renda_Empresário', 'educacao_Superior_completo', 'idade', 'qt_pessoas_residencia']\n",
      "#############\n",
      "['tempo_emprego', 'sexo_M', 'tipo_renda_Empresário', 'educacao_Superior_completo', 'idade', 'qt_pessoas_residencia']\n",
      "resulting features:\n",
      "['tempo_emprego', 'sexo_M', 'tipo_renda_Empresário', 'educacao_Superior_completo', 'idade', 'qt_pessoas_residencia']\n"
     ]
    }
   ],
   "source": [
    "# 4) Modelo stepwise\n",
    "\n",
    "\n",
    "\n",
    "# Transformar o y de series para array:\n",
    "\n",
    "\n",
    "\n",
    "y_train =np.array(y_train)\n",
    "\n",
    "def stepwise_selection(X_train, y_train, \n",
    "                      initial_list=[], \n",
    "                      threshold_in=0.05, \n",
    "                      threshold_out = 0.05, \n",
    "                      verbose=True):\n",
    "   \"\"\" Perform a forward-backward feature selection \n",
    "   based on p-value from statsmodels.api.OLS\n",
    "   Arguments:\n",
    "       X - pandas.DataFrame with candidate features\n",
    "       y - list-like with the target\n",
    "       initial_list - list of features to start with (column names of X)\n",
    "       threshold_in - include a feature if its p-value < threshold_in\n",
    "       threshold_out - exclude a feature if its p-value > threshold_out\n",
    "       verbose - whether to print the sequence of inclusions and exclusions\n",
    "   Returns: list of selected features \n",
    "   Always set threshold_in < threshold_out to avoid infinite looping.\n",
    "   See https://en.wikipedia.org/wiki/Stepwise_regression for the details\n",
    "   \"\"\"\n",
    "   included = list(initial_list)\n",
    "   while True:\n",
    "       changed = False\n",
    "       # forward step\n",
    "       excluded = list(set(X_train.columns) - set(included))\n",
    "       new_pval = pd.Series(index=excluded, dtype=np.dtype('float64'))\n",
    "       for new_column in excluded:\n",
    "           model = sm.OLS(y_train, sm.add_constant(pd.DataFrame(X_train[included+[new_column]]))).fit()\n",
    "           new_pval[new_column] = model.pvalues[new_column]\n",
    "       best_pval = new_pval.min()\n",
    "       if best_pval < threshold_in:\n",
    "           best_feature = new_pval.index[new_pval.argmin()]\n",
    "           included.append(best_feature)\n",
    "           changed = True\n",
    "           if verbose:\n",
    "               print('Add {:30} with p-value {:.6}'.format(best_feature, best_pval))\n",
    " \n",
    "       # backward step\n",
    "       print(\"#############\")\n",
    "       print(included)\n",
    "       model = sm.OLS(y_train, sm.add_constant(pd.DataFrame(X_train[included]))).fit()\n",
    "       # use all coefs except intercept\n",
    "       pvalues = model.pvalues.iloc[1:]\n",
    "       worst_pval = pvalues.max() # null if pvalues is empty\n",
    "       if worst_pval > threshold_out:\n",
    "           changed=True\n",
    "           worst_feature = pvalues.argmax()\n",
    "           included.remove(worst_feature)\n",
    "           if verbose:\n",
    "               print('Drop {:30} with p-value {:.6}'.format(worst_feature, worst_pval))\n",
    "       if not changed:\n",
    "           break\n",
    "   return included\n",
    "\n",
    "\n",
    "variaveis = stepwise_selection(X_train, y_train)\n",
    "\n",
    "\n",
    "print('resulting features:')\n",
    "print(variaveis)"
   ]
  },
  {
   "cell_type": "code",
   "execution_count": 26,
   "metadata": {
    "scrolled": false
   },
   "outputs": [
    {
     "data": {
      "text/html": [
       "<table class=\"simpletable\">\n",
       "<caption>OLS Regression Results</caption>\n",
       "<tr>\n",
       "  <th>Dep. Variable:</th>         <td>y_train</td>     <th>  R-squared:         </th> <td>   0.254</td> \n",
       "</tr>\n",
       "<tr>\n",
       "  <th>Model:</th>                   <td>OLS</td>       <th>  Adj. R-squared:    </th> <td>   0.253</td> \n",
       "</tr>\n",
       "<tr>\n",
       "  <th>Method:</th>             <td>Least Squares</td>  <th>  F-statistic:       </th> <td>   527.1</td> \n",
       "</tr>\n",
       "<tr>\n",
       "  <th>Date:</th>             <td>Tue, 18 Apr 2023</td> <th>  Prob (F-statistic):</th>  <td>  0.00</td>  \n",
       "</tr>\n",
       "<tr>\n",
       "  <th>Time:</th>                 <td>08:14:01</td>     <th>  Log-Likelihood:    </th> <td> -95912.</td> \n",
       "</tr>\n",
       "<tr>\n",
       "  <th>No. Observations:</th>      <td>  9320</td>      <th>  AIC:               </th> <td>1.918e+05</td>\n",
       "</tr>\n",
       "<tr>\n",
       "  <th>Df Residuals:</th>          <td>  9313</td>      <th>  BIC:               </th> <td>1.919e+05</td>\n",
       "</tr>\n",
       "<tr>\n",
       "  <th>Df Model:</th>              <td>     6</td>      <th>                     </th>     <td> </td>    \n",
       "</tr>\n",
       "<tr>\n",
       "  <th>Covariance Type:</th>      <td>nonrobust</td>    <th>                     </th>     <td> </td>    \n",
       "</tr>\n",
       "</table>\n",
       "<table class=\"simpletable\">\n",
       "<tr>\n",
       "               <td></td>                 <th>coef</th>     <th>std err</th>      <th>t</th>      <th>P>|t|</th>  <th>[0.025</th>    <th>0.975]</th>  \n",
       "</tr>\n",
       "<tr>\n",
       "  <th>Intercept</th>                  <td>-2601.9781</td> <td>  449.165</td> <td>   -5.793</td> <td> 0.000</td> <td>-3482.441</td> <td>-1721.516</td>\n",
       "</tr>\n",
       "<tr>\n",
       "  <th>tempo_emprego</th>              <td>  513.7530</td> <td>   11.836</td> <td>   43.406</td> <td> 0.000</td> <td>  490.552</td> <td>  536.954</td>\n",
       "</tr>\n",
       "<tr>\n",
       "  <th>sexo_M</th>                     <td> 5739.9759</td> <td>  156.499</td> <td>   36.677</td> <td> 0.000</td> <td> 5433.204</td> <td> 6046.747</td>\n",
       "</tr>\n",
       "<tr>\n",
       "  <th>tipo_renda_Empresário</th>      <td>  737.7448</td> <td>  166.273</td> <td>    4.437</td> <td> 0.000</td> <td>  411.814</td> <td> 1063.676</td>\n",
       "</tr>\n",
       "<tr>\n",
       "  <th>idade</th>                      <td>   40.1533</td> <td>    8.655</td> <td>    4.639</td> <td> 0.000</td> <td>   23.187</td> <td>   57.119</td>\n",
       "</tr>\n",
       "<tr>\n",
       "  <th>educacao_Superior_completo</th> <td>  683.0396</td> <td>  153.296</td> <td>    4.456</td> <td> 0.000</td> <td>  382.547</td> <td>  983.533</td>\n",
       "</tr>\n",
       "<tr>\n",
       "  <th>qt_pessoas_residencia</th>      <td>  201.5358</td> <td>   82.080</td> <td>    2.455</td> <td> 0.014</td> <td>   40.641</td> <td>  362.431</td>\n",
       "</tr>\n",
       "</table>\n",
       "<table class=\"simpletable\">\n",
       "<tr>\n",
       "  <th>Omnibus:</th>       <td>12093.096</td> <th>  Durbin-Watson:     </th>  <td>   1.962</td>  \n",
       "</tr>\n",
       "<tr>\n",
       "  <th>Prob(Omnibus):</th>  <td> 0.000</td>   <th>  Jarque-Bera (JB):  </th> <td>3903448.328</td>\n",
       "</tr>\n",
       "<tr>\n",
       "  <th>Skew:</th>           <td> 7.039</td>   <th>  Prob(JB):          </th>  <td>    0.00</td>  \n",
       "</tr>\n",
       "<tr>\n",
       "  <th>Kurtosis:</th>       <td>102.265</td>  <th>  Cond. No.          </th>  <td>    261.</td>  \n",
       "</tr>\n",
       "</table><br/><br/>Notes:<br/>[1] Standard Errors assume that the covariance matrix of the errors is correctly specified."
      ],
      "text/plain": [
       "<class 'statsmodels.iolib.summary.Summary'>\n",
       "\"\"\"\n",
       "                            OLS Regression Results                            \n",
       "==============================================================================\n",
       "Dep. Variable:                y_train   R-squared:                       0.254\n",
       "Model:                            OLS   Adj. R-squared:                  0.253\n",
       "Method:                 Least Squares   F-statistic:                     527.1\n",
       "Date:                Tue, 18 Apr 2023   Prob (F-statistic):               0.00\n",
       "Time:                        08:14:01   Log-Likelihood:                -95912.\n",
       "No. Observations:                9320   AIC:                         1.918e+05\n",
       "Df Residuals:                    9313   BIC:                         1.919e+05\n",
       "Df Model:                           6                                         \n",
       "Covariance Type:            nonrobust                                         \n",
       "==============================================================================================\n",
       "                                 coef    std err          t      P>|t|      [0.025      0.975]\n",
       "----------------------------------------------------------------------------------------------\n",
       "Intercept                  -2601.9781    449.165     -5.793      0.000   -3482.441   -1721.516\n",
       "tempo_emprego                513.7530     11.836     43.406      0.000     490.552     536.954\n",
       "sexo_M                      5739.9759    156.499     36.677      0.000    5433.204    6046.747\n",
       "tipo_renda_Empresário        737.7448    166.273      4.437      0.000     411.814    1063.676\n",
       "idade                         40.1533      8.655      4.639      0.000      23.187      57.119\n",
       "educacao_Superior_completo   683.0396    153.296      4.456      0.000     382.547     983.533\n",
       "qt_pessoas_residencia        201.5358     82.080      2.455      0.014      40.641     362.431\n",
       "==============================================================================\n",
       "Omnibus:                    12093.096   Durbin-Watson:                   1.962\n",
       "Prob(Omnibus):                  0.000   Jarque-Bera (JB):          3903448.328\n",
       "Skew:                           7.039   Prob(JB):                         0.00\n",
       "Kurtosis:                     102.265   Cond. No.                         261.\n",
       "==============================================================================\n",
       "\n",
       "Notes:\n",
       "[1] Standard Errors assume that the covariance matrix of the errors is correctly specified.\n",
       "\"\"\""
      ]
     },
     "execution_count": 26,
     "metadata": {},
     "output_type": "execute_result"
    }
   ],
   "source": [
    "modelo = '''y_train ~ tempo_emprego + sexo_M + tipo_renda_Empresário +\n",
    "              idade + educacao_Superior_completo + qt_pessoas_residencia'''\n",
    "\n",
    "reg_stepwise = smf.ols(modelo, data = X_train).fit()\n",
    "reg_stepwise.summary()"
   ]
  },
  {
   "cell_type": "code",
   "execution_count": 25,
   "metadata": {},
   "outputs": [
    {
     "data": {
      "text/plain": [
       "0.25357563488405377"
      ]
     },
     "execution_count": 25,
     "metadata": {},
     "output_type": "execute_result"
    }
   ],
   "source": [
    "# R² na base teste:\n",
    "\n",
    "y_pred = reg_stepwise.predict(X_test[variaveis])\n",
    "r2_score(y_test, y_pred)"
   ]
  },
  {
   "cell_type": "markdown",
   "metadata": {},
   "source": [
    "### 5)\n",
    "\n",
    "- Os modelos apresentaram indicadores muito parecidos, porém, o modelo stepwise é um modelo mais simples com menos variáveis explicativas.\n",
    "\n"
   ]
  },
  {
   "cell_type": "code",
   "execution_count": 28,
   "metadata": {},
   "outputs": [
    {
     "data": {
      "text/html": [
       "<table class=\"simpletable\">\n",
       "<caption>OLS Regression Results</caption>\n",
       "<tr>\n",
       "  <th>Dep. Variable:</th>     <td>np.log(y_train)</td> <th>  R-squared:         </th> <td>   0.345</td> \n",
       "</tr>\n",
       "<tr>\n",
       "  <th>Model:</th>                   <td>OLS</td>       <th>  Adj. R-squared:    </th> <td>   0.345</td> \n",
       "</tr>\n",
       "<tr>\n",
       "  <th>Method:</th>             <td>Least Squares</td>  <th>  F-statistic:       </th> <td>   818.2</td> \n",
       "</tr>\n",
       "<tr>\n",
       "  <th>Date:</th>             <td>Tue, 18 Apr 2023</td> <th>  Prob (F-statistic):</th>  <td>  0.00</td>  \n",
       "</tr>\n",
       "<tr>\n",
       "  <th>Time:</th>                 <td>08:15:44</td>     <th>  Log-Likelihood:    </th> <td> -10187.</td> \n",
       "</tr>\n",
       "<tr>\n",
       "  <th>No. Observations:</th>      <td>  9320</td>      <th>  AIC:               </th> <td>2.039e+04</td>\n",
       "</tr>\n",
       "<tr>\n",
       "  <th>Df Residuals:</th>          <td>  9313</td>      <th>  BIC:               </th> <td>2.044e+04</td>\n",
       "</tr>\n",
       "<tr>\n",
       "  <th>Df Model:</th>              <td>     6</td>      <th>                     </th>     <td> </td>    \n",
       "</tr>\n",
       "<tr>\n",
       "  <th>Covariance Type:</th>      <td>nonrobust</td>    <th>                     </th>     <td> </td>    \n",
       "</tr>\n",
       "</table>\n",
       "<table class=\"simpletable\">\n",
       "<tr>\n",
       "               <td></td>                 <th>coef</th>     <th>std err</th>      <th>t</th>      <th>P>|t|</th>  <th>[0.025</th>    <th>0.975]</th>  \n",
       "</tr>\n",
       "<tr>\n",
       "  <th>Intercept</th>                  <td>    7.1716</td> <td>    0.045</td> <td>  157.707</td> <td> 0.000</td> <td>    7.082</td> <td>    7.261</td>\n",
       "</tr>\n",
       "<tr>\n",
       "  <th>tempo_emprego</th>              <td>    0.0612</td> <td>    0.001</td> <td>   51.086</td> <td> 0.000</td> <td>    0.059</td> <td>    0.064</td>\n",
       "</tr>\n",
       "<tr>\n",
       "  <th>sexo_M</th>                     <td>    0.7847</td> <td>    0.016</td> <td>   49.529</td> <td> 0.000</td> <td>    0.754</td> <td>    0.816</td>\n",
       "</tr>\n",
       "<tr>\n",
       "  <th>tipo_renda_Empresário</th>      <td>    0.1398</td> <td>    0.017</td> <td>    8.307</td> <td> 0.000</td> <td>    0.107</td> <td>    0.173</td>\n",
       "</tr>\n",
       "<tr>\n",
       "  <th>idade</th>                      <td>    0.0050</td> <td>    0.001</td> <td>    5.662</td> <td> 0.000</td> <td>    0.003</td> <td>    0.007</td>\n",
       "</tr>\n",
       "<tr>\n",
       "  <th>educacao_Superior_completo</th> <td>    0.1180</td> <td>    0.016</td> <td>    7.604</td> <td> 0.000</td> <td>    0.088</td> <td>    0.148</td>\n",
       "</tr>\n",
       "<tr>\n",
       "  <th>qt_pessoas_residencia</th>      <td>    0.0211</td> <td>    0.008</td> <td>    2.536</td> <td> 0.011</td> <td>    0.005</td> <td>    0.037</td>\n",
       "</tr>\n",
       "</table>\n",
       "<table class=\"simpletable\">\n",
       "<tr>\n",
       "  <th>Omnibus:</th>       <td> 0.425</td> <th>  Durbin-Watson:     </th> <td>   1.965</td>\n",
       "</tr>\n",
       "<tr>\n",
       "  <th>Prob(Omnibus):</th> <td> 0.809</td> <th>  Jarque-Bera (JB):  </th> <td>   0.391</td>\n",
       "</tr>\n",
       "<tr>\n",
       "  <th>Skew:</th>          <td> 0.009</td> <th>  Prob(JB):          </th> <td>   0.822</td>\n",
       "</tr>\n",
       "<tr>\n",
       "  <th>Kurtosis:</th>      <td> 3.026</td> <th>  Cond. No.          </th> <td>    261.</td>\n",
       "</tr>\n",
       "</table><br/><br/>Notes:<br/>[1] Standard Errors assume that the covariance matrix of the errors is correctly specified."
      ],
      "text/plain": [
       "<class 'statsmodels.iolib.summary.Summary'>\n",
       "\"\"\"\n",
       "                            OLS Regression Results                            \n",
       "==============================================================================\n",
       "Dep. Variable:        np.log(y_train)   R-squared:                       0.345\n",
       "Model:                            OLS   Adj. R-squared:                  0.345\n",
       "Method:                 Least Squares   F-statistic:                     818.2\n",
       "Date:                Tue, 18 Apr 2023   Prob (F-statistic):               0.00\n",
       "Time:                        08:15:44   Log-Likelihood:                -10187.\n",
       "No. Observations:                9320   AIC:                         2.039e+04\n",
       "Df Residuals:                    9313   BIC:                         2.044e+04\n",
       "Df Model:                           6                                         \n",
       "Covariance Type:            nonrobust                                         \n",
       "==============================================================================================\n",
       "                                 coef    std err          t      P>|t|      [0.025      0.975]\n",
       "----------------------------------------------------------------------------------------------\n",
       "Intercept                      7.1716      0.045    157.707      0.000       7.082       7.261\n",
       "tempo_emprego                  0.0612      0.001     51.086      0.000       0.059       0.064\n",
       "sexo_M                         0.7847      0.016     49.529      0.000       0.754       0.816\n",
       "tipo_renda_Empresário          0.1398      0.017      8.307      0.000       0.107       0.173\n",
       "idade                          0.0050      0.001      5.662      0.000       0.003       0.007\n",
       "educacao_Superior_completo     0.1180      0.016      7.604      0.000       0.088       0.148\n",
       "qt_pessoas_residencia          0.0211      0.008      2.536      0.011       0.005       0.037\n",
       "==============================================================================\n",
       "Omnibus:                        0.425   Durbin-Watson:                   1.965\n",
       "Prob(Omnibus):                  0.809   Jarque-Bera (JB):                0.391\n",
       "Skew:                           0.009   Prob(JB):                        0.822\n",
       "Kurtosis:                       3.026   Cond. No.                         261.\n",
       "==============================================================================\n",
       "\n",
       "Notes:\n",
       "[1] Standard Errors assume that the covariance matrix of the errors is correctly specified.\n",
       "\"\"\""
      ]
     },
     "execution_count": 28,
     "metadata": {},
     "output_type": "execute_result"
    }
   ],
   "source": [
    "# 6)\n",
    "\n",
    "reg = smf.ols('''np.log(y_train) ~ tempo_emprego + sexo_M + tipo_renda_Empresário +\n",
    "              idade + educacao_Superior_completo + qt_pessoas_residencia''', data = X_train).fit()\n",
    "reg.summary()"
   ]
  },
  {
   "cell_type": "code",
   "execution_count": 30,
   "metadata": {},
   "outputs": [
    {
     "data": {
      "text/plain": [
       "0.3755394824278505"
      ]
     },
     "execution_count": 30,
     "metadata": {},
     "output_type": "execute_result"
    }
   ],
   "source": [
    "# R² na base teste:\n",
    "\n",
    "y_pred = reg.predict(X_test[variaveis])\n",
    "r2_score(np.log(y_test), y_pred)"
   ]
  },
  {
   "cell_type": "markdown",
   "metadata": {},
   "source": [
    "- Foi possível melhorar o R² adicionando um termo logaritmo."
   ]
  },
  {
   "cell_type": "code",
   "execution_count": 43,
   "metadata": {},
   "outputs": [
    {
     "data": {
      "text/plain": [
       "DecisionTreeRegressor(max_depth=6)"
      ]
     },
     "execution_count": 43,
     "metadata": {},
     "output_type": "execute_result"
    }
   ],
   "source": [
    "# 7)\n",
    "\n",
    "arvore_reg = DecisionTreeRegressor(max_depth=6)\n",
    "\n",
    "arvore_reg.fit(X_train, y_train)\n"
   ]
  },
  {
   "cell_type": "code",
   "execution_count": 45,
   "metadata": {},
   "outputs": [
    {
     "data": {
      "image/png": "[encoded data removed]",
      "text/plain": [
       "<Figure size 1440x1440 with 1 Axes>"
      ]
     },
     "metadata": {
      "needs_background": "light"
     },
     "output_type": "display_data"
    }
   ],
   "source": [
    "plt.rc('figure', figsize = (20,20))\n",
    "tp = tree.plot_tree(arvore_reg,\n",
    "                   feature_names = X_train.columns,\n",
    "                   filled = True)"
   ]
  },
  {
   "cell_type": "code",
   "execution_count": 46,
   "metadata": {},
   "outputs": [
    {
     "name": "stdout",
     "output_type": "stream",
     "text": [
      "R-quadrado na base de testes: 0.53\n"
     ]
    }
   ],
   "source": [
    "r2 = arvore_reg.score(X_test, y_test)\n",
    "\n",
    "print(f\"R-quadrado na base de testes: {r2:.2f}\")"
   ]
  }
 ],
 "metadata": {
  "kernelspec": {
   "display_name": "Python 3 (ipykernel)",
   "language": "python",
   "name": "python3"
  },
  "language_info": {
   "codemirror_mode": {
    "name": "ipython",
    "version": 3
   },
   "file_extension": ".py",
   "mimetype": "text/x-python",
   "name": "python",
   "nbconvert_exporter": "python",
   "pygments_lexer": "ipython3",
   "version": "3.9.12"
  }
 },
 "nbformat": 4,
 "nbformat_minor": 4
}
