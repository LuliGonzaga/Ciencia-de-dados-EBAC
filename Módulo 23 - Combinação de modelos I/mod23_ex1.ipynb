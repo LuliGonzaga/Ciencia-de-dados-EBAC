{
 "cells": [
  {
   "cell_type": "markdown",
   "id": "64add719",
   "metadata": {},
   "source": [
    "# Módulo 23 - Combinação de Modelos I\n",
    "\n",
    "## Exercício 1\n",
    "\n",
    "Luciana Gonzaga\n",
    "\n",
    "---"
   ]
  },
  {
   "cell_type": "markdown",
   "id": "8eece6a3",
   "metadata": {},
   "source": [
    "## Bagging\n",
    "\n",
    "### Conceito:\n",
    "\n",
    "Bagging, ou Bootstrap Aggregating, é uma técnica de aprendizado de máquina que combina a previsão de múltiplos modelos treinados em amostras de dados diferentes, geralmente modelos de árvore de decisão, visando melhorar o desempenho do modelo final.\n",
    "\n",
    "É frequentemente usado para reduzir a variância do modelo, tornando-o mais estável e menos propenso ao sobreajuste aos dados de treinamento e, assim, produzir previsões mais robustas e precisas.\n",
    "\n",
    "Um dos algoritmos mais conhecidos baseado em Bagging é o Random Forest, usando árvores de decisão cocmo modelo base. Outras técnicas de ensemble, como Gradient Boosting e AdaBoost, também aproveitam conceitos semelhantes."
   ]
  },
  {
   "cell_type": "markdown",
   "id": "3b6ae8a6",
   "metadata": {},
   "source": [
    "### Passo-a-passo:\n",
    "\n",
    "O processo de Bagging envolve várias etapas:\n",
    "\n",
    "**1. Amostragem por reposição (Bootstrap):** Vários conjuntos de dados de treinamento são criados por amostragem aleatória com reposição do conjunto de treinamento original. Ou seja, cada conjunto de treinamento bootstrap é uma amostra aleatória dos dados de treinamento originais e pode conter duplicatas de exemplos de treinamento.\n",
    "\n",
    "**2. Treinamento de Modelos:** Um modelo de aprendizado de máquina é treinado separadamente em cada conjunto de dados bootstrap, resultando na criação de vários modelos diferentes (**Base learners**).\n",
    "\n",
    "**3. Combinação dos Modelos (Aggregating):** Os modelos treinados são combinados de alguma maneira para formar um modelo final. Em problemas de:\n",
    "\n",
    "- Classificação:  geralmente envolve a quantidade majoritária de \"votos\", em que o modelo final faz uma previsão tomando a classe mais frequente entre os modelos individuais.\n",
    "- Regressão: a previsão final pode ser a média das previsões dos modelos individuais."
   ]
  },
  {
   "cell_type": "markdown",
   "id": "c81c969f",
   "metadata": {},
   "source": [
    "### Implementação:"
   ]
  },
  {
   "cell_type": "code",
   "execution_count": 1,
   "id": "ba752a43",
   "metadata": {},
   "outputs": [],
   "source": [
    "import seaborn as sns\n",
    "import pandas as pd\n",
    "import matplotlib.pyplot as plt\n",
    "\n",
    "from sklearn.tree import DecisionTreeClassifier\n",
    "from sklearn.ensemble import BaggingClassifier\n",
    "from sklearn.datasets import load_iris\n",
    "from sklearn.model_selection import train_test_split\n",
    "from sklearn.metrics import accuracy_score\n",
    "from sklearn.metrics import confusion_matrix"
   ]
  },
  {
   "cell_type": "markdown",
   "id": "16ca62ff",
   "metadata": {},
   "source": [
    "#### Conjunto de dados de exemplo (Iris):"
   ]
  },
  {
   "cell_type": "code",
   "execution_count": 2,
   "id": "97eb1199",
   "metadata": {},
   "outputs": [
    {
     "data": {
      "text/html": [
       "<div>\n",
       "<style scoped>\n",
       "    .dataframe tbody tr th:only-of-type {\n",
       "        vertical-align: middle;\n",
       "    }\n",
       "\n",
       "    .dataframe tbody tr th {\n",
       "        vertical-align: top;\n",
       "    }\n",
       "\n",
       "    .dataframe thead th {\n",
       "        text-align: right;\n",
       "    }\n",
       "</style>\n",
       "<table border=\"1\" class=\"dataframe\">\n",
       "  <thead>\n",
       "    <tr style=\"text-align: right;\">\n",
       "      <th></th>\n",
       "      <th>sepal_length</th>\n",
       "      <th>sepal_width</th>\n",
       "      <th>petal_length</th>\n",
       "      <th>petal_width</th>\n",
       "      <th>species</th>\n",
       "    </tr>\n",
       "  </thead>\n",
       "  <tbody>\n",
       "    <tr>\n",
       "      <th>0</th>\n",
       "      <td>5.1</td>\n",
       "      <td>3.5</td>\n",
       "      <td>1.4</td>\n",
       "      <td>0.2</td>\n",
       "      <td>setosa</td>\n",
       "    </tr>\n",
       "    <tr>\n",
       "      <th>1</th>\n",
       "      <td>4.9</td>\n",
       "      <td>3.0</td>\n",
       "      <td>1.4</td>\n",
       "      <td>0.2</td>\n",
       "      <td>setosa</td>\n",
       "    </tr>\n",
       "    <tr>\n",
       "      <th>2</th>\n",
       "      <td>4.7</td>\n",
       "      <td>3.2</td>\n",
       "      <td>1.3</td>\n",
       "      <td>0.2</td>\n",
       "      <td>setosa</td>\n",
       "    </tr>\n",
       "    <tr>\n",
       "      <th>3</th>\n",
       "      <td>4.6</td>\n",
       "      <td>3.1</td>\n",
       "      <td>1.5</td>\n",
       "      <td>0.2</td>\n",
       "      <td>setosa</td>\n",
       "    </tr>\n",
       "    <tr>\n",
       "      <th>4</th>\n",
       "      <td>5.0</td>\n",
       "      <td>3.6</td>\n",
       "      <td>1.4</td>\n",
       "      <td>0.2</td>\n",
       "      <td>setosa</td>\n",
       "    </tr>\n",
       "    <tr>\n",
       "      <th>...</th>\n",
       "      <td>...</td>\n",
       "      <td>...</td>\n",
       "      <td>...</td>\n",
       "      <td>...</td>\n",
       "      <td>...</td>\n",
       "    </tr>\n",
       "    <tr>\n",
       "      <th>145</th>\n",
       "      <td>6.7</td>\n",
       "      <td>3.0</td>\n",
       "      <td>5.2</td>\n",
       "      <td>2.3</td>\n",
       "      <td>virginica</td>\n",
       "    </tr>\n",
       "    <tr>\n",
       "      <th>146</th>\n",
       "      <td>6.3</td>\n",
       "      <td>2.5</td>\n",
       "      <td>5.0</td>\n",
       "      <td>1.9</td>\n",
       "      <td>virginica</td>\n",
       "    </tr>\n",
       "    <tr>\n",
       "      <th>147</th>\n",
       "      <td>6.5</td>\n",
       "      <td>3.0</td>\n",
       "      <td>5.2</td>\n",
       "      <td>2.0</td>\n",
       "      <td>virginica</td>\n",
       "    </tr>\n",
       "    <tr>\n",
       "      <th>148</th>\n",
       "      <td>6.2</td>\n",
       "      <td>3.4</td>\n",
       "      <td>5.4</td>\n",
       "      <td>2.3</td>\n",
       "      <td>virginica</td>\n",
       "    </tr>\n",
       "    <tr>\n",
       "      <th>149</th>\n",
       "      <td>5.9</td>\n",
       "      <td>3.0</td>\n",
       "      <td>5.1</td>\n",
       "      <td>1.8</td>\n",
       "      <td>virginica</td>\n",
       "    </tr>\n",
       "  </tbody>\n",
       "</table>\n",
       "<p>150 rows × 5 columns</p>\n",
       "</div>"
      ],
      "text/plain": [
       "     sepal_length  sepal_width  petal_length  petal_width    species\n",
       "0             5.1          3.5           1.4          0.2     setosa\n",
       "1             4.9          3.0           1.4          0.2     setosa\n",
       "2             4.7          3.2           1.3          0.2     setosa\n",
       "3             4.6          3.1           1.5          0.2     setosa\n",
       "4             5.0          3.6           1.4          0.2     setosa\n",
       "..            ...          ...           ...          ...        ...\n",
       "145           6.7          3.0           5.2          2.3  virginica\n",
       "146           6.3          2.5           5.0          1.9  virginica\n",
       "147           6.5          3.0           5.2          2.0  virginica\n",
       "148           6.2          3.4           5.4          2.3  virginica\n",
       "149           5.9          3.0           5.1          1.8  virginica\n",
       "\n",
       "[150 rows x 5 columns]"
      ]
     },
     "execution_count": 2,
     "metadata": {},
     "output_type": "execute_result"
    }
   ],
   "source": [
    "iris = sns.load_dataset('iris')\n",
    "iris"
   ]
  },
  {
   "cell_type": "code",
   "execution_count": 3,
   "id": "2bce9bf5",
   "metadata": {},
   "outputs": [],
   "source": [
    "# Separação da base em treino e teste:\n",
    "\n",
    "data = load_iris()\n",
    "X, y = data.data, data.target\n",
    "\n",
    "X_train, X_test, y_train, y_test = train_test_split(X, y, test_size=0.2, random_state=42)"
   ]
  },
  {
   "cell_type": "markdown",
   "id": "df704019",
   "metadata": {},
   "source": [
    "#### *Bootstrap:*"
   ]
  },
  {
   "cell_type": "code",
   "execution_count": 4,
   "id": "0755a1ef",
   "metadata": {},
   "outputs": [],
   "source": [
    "# Modelo base (árvore de decisão):\n",
    "base_model = DecisionTreeClassifier()\n",
    "\n",
    "# Definir o BaggingClassifier com 100 estimadores (modelos base):\n",
    "bagging_model = BaggingClassifier(base_model, n_estimators=100, random_state=42)\n"
   ]
  },
  {
   "cell_type": "markdown",
   "id": "58d61f9e",
   "metadata": {},
   "source": [
    "#### *Modelagem:*"
   ]
  },
  {
   "cell_type": "code",
   "execution_count": 5,
   "id": "eb4b59aa",
   "metadata": {},
   "outputs": [
    {
     "data": {
      "text/plain": [
       "BaggingClassifier(base_estimator=DecisionTreeClassifier(), n_estimators=100,\n",
       "                  random_state=42)"
      ]
     },
     "execution_count": 5,
     "metadata": {},
     "output_type": "execute_result"
    }
   ],
   "source": [
    "bagging_model.fit(X_train, y_train)"
   ]
  },
  {
   "cell_type": "markdown",
   "id": "70adf389",
   "metadata": {},
   "source": [
    "#### *Agregação:*"
   ]
  },
  {
   "cell_type": "code",
   "execution_count": 6,
   "id": "d26e731d",
   "metadata": {},
   "outputs": [],
   "source": [
    "y_pred = bagging_model.predict(X_test)"
   ]
  },
  {
   "cell_type": "markdown",
   "id": "6c981e51",
   "metadata": {},
   "source": [
    "#### Avaliação do modelo final:"
   ]
  },
  {
   "cell_type": "code",
   "execution_count": 7,
   "id": "b781b971",
   "metadata": {},
   "outputs": [
    {
     "name": "stdout",
     "output_type": "stream",
     "text": [
      "Acurácia do modelo Bagging: 1.00\n"
     ]
    }
   ],
   "source": [
    "accuracy = accuracy_score(y_test, y_pred)\n",
    "print(f\"Acurácia do modelo Bagging: {accuracy:.2f}\")"
   ]
  },
  {
   "cell_type": "code",
   "execution_count": 8,
   "id": "5bfb016b",
   "metadata": {},
   "outputs": [
    {
     "data": {
      "image/png": "[encoded data removed]",
      "text/plain": [
       "<Figure size 432x288 with 2 Axes>"
      ]
     },
     "metadata": {
      "needs_background": "light"
     },
     "output_type": "display_data"
    }
   ],
   "source": [
    "sns.heatmap(confusion_matrix(y_test, y_pred), annot=True, fmt='d', cmap='Blues')\n",
    "plt.xlabel('Previsões')\n",
    "plt.ylabel('Valores Reais')\n",
    "plt.show()"
   ]
  }
 ],
 "metadata": {
  "kernelspec": {
   "display_name": "Python 3 (ipykernel)",
   "language": "python",
   "name": "python3"
  },
  "language_info": {
   "codemirror_mode": {
    "name": "ipython",
    "version": 3
   },
   "file_extension": ".py",
   "mimetype": "text/x-python",
   "name": "python",
   "nbconvert_exporter": "python",
   "pygments_lexer": "ipython3",
   "version": "3.9.12"
  }
 },
 "nbformat": 4,
 "nbformat_minor": 5
}
