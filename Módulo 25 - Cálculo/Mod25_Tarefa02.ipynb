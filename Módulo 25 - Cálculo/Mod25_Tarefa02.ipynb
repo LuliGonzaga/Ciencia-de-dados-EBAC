{
 "cells": [
  {
   "cell_type": "markdown",
   "metadata": {},
   "source": [
    "# Módulo 25 - Cálculo\n",
    "\n",
    "## Tarefa 2\n",
    "\n",
    "Luciana Gonzaga\n",
    "\n",
    "---"
   ]
  },
  {
   "cell_type": "markdown",
   "metadata": {},
   "source": [
    "#### 1- Calcule de forma numérica a integral da função $x^3$ avaliada entre os pontos $1$ e $2$. Identifique o número de retângulos que você usou."
   ]
  },
  {
   "cell_type": "code",
   "execution_count": 2,
   "metadata": {},
   "outputs": [],
   "source": [
    "import numpy as np\n",
    "import matplotlib.pyplot as plt\n",
    "\n",
    "%matplotlib inline"
   ]
  },
  {
   "cell_type": "code",
   "execution_count": 34,
   "metadata": {},
   "outputs": [
    {
     "data": {
      "image/png": "[encoded data removed]",
      "text/plain": [
       "<Figure size 576x432 with 1 Axes>"
      ]
     },
     "metadata": {
      "needs_background": "light"
     },
     "output_type": "display_data"
    }
   ],
   "source": [
    "# Função f(x) = x^3\n",
    "f = lambda x: x**3\n",
    "\n",
    "def calculate_area(a, b, func, num_rectangles):\n",
    "    delta_x = (b - a) / num_rectangles\n",
    "    x_centers = np.linspace(a + delta_x/2, b - delta_x/2, num_rectangles)\n",
    "    y_values = func(x_centers)\n",
    "    return delta_x * np.sum(y_values)\n",
    "\n",
    "def plot_riemann_sum(n, a=1, b=2, func=f):\n",
    "    plt.figure(figsize=(8, 6))\n",
    "    \n",
    "    x = np.linspace(a, b, 100)\n",
    "    y = func(x)\n",
    "    \n",
    "    plt.plot(x, y, 'r-', lw=2, label='$f(x) = x^3$')\n",
    "    \n",
    "    num_rectangles = n\n",
    "    delta_x = (b - a) / num_rectangles\n",
    "    x_rectangles = np.linspace(a, b, num_rectangles, endpoint=False)\n",
    "    y_rectangles = func(x_rectangles)\n",
    "    \n",
    "    plt.bar(x_rectangles, y_rectangles, width=delta_x, alpha=0.5, align='edge')\n",
    "    \n",
    "    riemann_sum = calculate_area(a, b, func, num_rectangles)\n",
    "    \n",
    "    # Cálculo do erro\n",
    "    true_value = (b**4 - a**4) / 4  # Valor verdadeiro da integral\n",
    "    erro = true_value - riemann_sum\n",
    "    \n",
    "    plt.title(f'Integral da função $f(x) = x^3$ usando {num_rectangles} retângulos\\nSoma de Riemann = {riemann_sum:.4f}, Erro = {erro:.4f}')\n",
    "    \n",
    "    plt.xlabel('x')\n",
    "    plt.ylabel('f(x)')\n",
    "    plt.legend()\n",
    "    plt.show()\n",
    "\n",
    "n_rectangles = 30   # Número de retângulos usados\n",
    "plot_riemann_sum(n_rectangles)\n"
   ]
  },
  {
   "cell_type": "markdown",
   "metadata": {},
   "source": [
    "#### 2- Calcule essa área de forma analítica."
   ]
  },
  {
   "cell_type": "markdown",
   "metadata": {},
   "source": [
    "A integral da função $x^3$ é dada por:\n",
    "\n",
    "$$\\int_{1}^{2} x^3 \\, dx$$\n",
    "\n",
    "A integral de $x^3$ em relação a $x$ é:\n",
    "\n",
    "$$\\frac{1}{4}x^4 + C$$\n",
    "\n",
    "Agora, podemos calcular a integral definida entre 1 e 2:\n",
    "\n",
    "$$\\left[\\frac{1}{4}x^4\\right]_{1}^{2} = \\frac{1}{4}(2^4) - \\frac{1}{4}(1^4) = \\frac{16}{4} - \\frac{1}{4} = 4 - 0.25 = 3.75$$\n",
    "\n",
    "Portanto, a área sob a curva da função $x^3$ entre 1 e 2 é igual a 3.75 unidades quadradas.\n"
   ]
  }
 ],
 "metadata": {
  "kernelspec": {
   "display_name": "Python 3 (ipykernel)",
   "language": "python",
   "name": "python3"
  },
  "language_info": {
   "codemirror_mode": {
    "name": "ipython",
    "version": 3
   },
   "file_extension": ".py",
   "mimetype": "text/x-python",
   "name": "python",
   "nbconvert_exporter": "python",
   "pygments_lexer": "ipython3",
   "version": "3.9.12"
  },
  "toc": {
   "base_numbering": 1,
   "nav_menu": {},
   "number_sections": true,
   "sideBar": true,
   "skip_h1_title": true,
   "title_cell": "Índice",
   "title_sidebar": "Conteúdo",
   "toc_cell": false,
   "toc_position": {},
   "toc_section_display": true,
   "toc_window_display": false
  },
  "varInspector": {
   "cols": {
    "lenName": 16,
    "lenType": 16,
    "lenVar": 40
   },
   "kernels_config": {
    "python": {
     "delete_cmd_postfix": "",
     "delete_cmd_prefix": "del ",
     "library": "var_list.py",
     "varRefreshCmd": "print(var_dic_list())"
    },
    "r": {
     "delete_cmd_postfix": ") ",
     "delete_cmd_prefix": "rm(",
     "library": "var_list.r",
     "varRefreshCmd": "cat(var_dic_list()) "
    }
   },
   "types_to_exclude": [
    "module",
    "function",
    "builtin_function_or_method",
    "instance",
    "_Feature"
   ],
   "window_display": false
  }
 },
 "nbformat": 4,
 "nbformat_minor": 4
}
