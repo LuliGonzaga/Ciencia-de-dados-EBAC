{
 "cells": [
  {
   "cell_type": "markdown",
   "metadata": {},
   "source": [
    "# Módulo 25 - Cálculo\n",
    "\n",
    "## Tarefa 1\n",
    "\n",
    "Luciana Gonzaga\n",
    "\n",
    "---"
   ]
  },
  {
   "cell_type": "markdown",
   "metadata": {},
   "source": [
    "#### 1. Marque quais desses métodos/algoritmos muito populares em ciência de dados são baseados no uso de derivada:\n",
    "\n",
    "    1. Método Mínimos Quadrados\n",
    "    2. Gradiente descendente\n",
    "    3. Newton Raphson\n",
    "    4. CART (Árvore de decisão)"
   ]
  },
  {
   "cell_type": "markdown",
   "metadata": {},
   "source": [
    "**Resposta:**\n",
    "\n",
    "Dos métodos/algoritmos mencionados:\n",
    "\n",
    "   1. **Método Mínimos Quadrados:** Não é baseado no uso de derivada.\n",
    "   2. **Gradiente Descendente:** É baseado no uso de derivada, especificamente, no cálculo do gradiente da função de custo.\n",
    "   3. **Newton-Raphson:** É baseado no uso de derivada, pois envolve o cálculo da primeira derivada (gradiente) e, em alguns casos, da segunda derivada (matriz hessiana) da função de custo.\n",
    "   4. **CART (Árvore de Decisão):** Não é baseado no uso de derivada.\n",
    "\n",
    "Portanto, o Gradiente Descendente e o Newton-Raphson são os métodos que envolvem o uso de derivadas em suas abordagens.\n",
    "\n",
    "---"
   ]
  },
  {
   "cell_type": "markdown",
   "metadata": {},
   "source": [
    "#### 2. Dada uma base de dados com uma variável resposta $y$ e um conjunto de variáveis explicativas. Considere uma estrutura de um modelo de regressão. Explique com suas palavras por que não é possível obter parâmetros que forneçam um erro quadrático médio (EQM) menor que o obtido com estimadores de mínimos quadrados."
   ]
  },
  {
   "cell_type": "markdown",
   "metadata": {},
   "source": [
    "**Resposta:**\n",
    "\n",
    "Não é possível obter parâmetros que forneçam um erro quadrático médio (EQM) menor do que o obtido com estimadores de mínimos quadrados (OLS) quando o modelo de regressão já está bem especificado. O OLS já encontra os melhores parâmetros possíveis que minimizam o erro, o que leva a um modelo que se ajusta aos dados de treinamento da melhor forma possível.\n",
    "\n",
    "O EQM é uma medida de quão bem o modelo se ajusta aos dados de treinamento. Qualquer tentativa de reduzir ainda mais o EQM pode levar a um modelo muito complexo, que não se ajustará bem a novos dados e prejudicará sua capacidade de previsão.\n",
    "\n",
    "Portanto, não é possível obter um EQM menor que o OLS sem comprometer a capacidade do modelo de generalizar para novos dados (overfitting). Sendo assim, OLS fornece um bom equilíbrio entre ajuste e simplicidade.\n"
   ]
  }
 ],
 "metadata": {
  "kernelspec": {
   "display_name": "Python 3 (ipykernel)",
   "language": "python",
   "name": "python3"
  },
  "language_info": {
   "codemirror_mode": {
    "name": "ipython",
    "version": 3
   },
   "file_extension": ".py",
   "mimetype": "text/x-python",
   "name": "python",
   "nbconvert_exporter": "python",
   "pygments_lexer": "ipython3",
   "version": "3.9.12"
  },
  "toc": {
   "base_numbering": 1,
   "nav_menu": {},
   "number_sections": true,
   "sideBar": true,
   "skip_h1_title": true,
   "title_cell": "Índice",
   "title_sidebar": "Conteúdo",
   "toc_cell": false,
   "toc_position": {},
   "toc_section_display": true,
   "toc_window_display": false
  },
  "varInspector": {
   "cols": {
    "lenName": 16,
    "lenType": 16,
    "lenVar": 40
   },
   "kernels_config": {
    "python": {
     "delete_cmd_postfix": "",
     "delete_cmd_prefix": "del ",
     "library": "var_list.py",
     "varRefreshCmd": "print(var_dic_list())"
    },
    "r": {
     "delete_cmd_postfix": ") ",
     "delete_cmd_prefix": "rm(",
     "library": "var_list.r",
     "varRefreshCmd": "cat(var_dic_list()) "
    }
   },
   "types_to_exclude": [
    "module",
    "function",
    "builtin_function_or_method",
    "instance",
    "_Feature"
   ],
   "window_display": false
  }
 },
 "nbformat": 4,
 "nbformat_minor": 4
}
